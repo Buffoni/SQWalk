{
 "cells": [
  {
   "cell_type": "code",
   "execution_count": null,
   "metadata": {
    "collapsed": true
   },
   "outputs": [],
   "source": [
    "from qutip import ket2dm, basis, Options\n",
    "import numpy as np\n",
    "from maze import Maze\n",
    "from sqwalk import QWalker\n",
    "import matplotlib.pyplot as plt\n"
   ]
  },
  {
   "cell_type": "code",
   "execution_count": null,
   "outputs": [],
   "source": [
    "# Initialize the graph, in this case a perfect square maze having the side dimension equal to \"size\".\n",
    "# The entrance is in the lower left corner and the exit in the upper right corner.\n",
    "size = 10\n",
    "graph = Maze(maze_size=(size, size), startNode=0, sinkNode=size*size-1)\n",
    "\n",
    "# Let's plot it for visual reference\n",
    "graph.plot_maze()"
   ],
   "metadata": {
    "collapsed": false,
    "pycharm": {
     "name": "#%%\n"
    }
   }
  },
  {
   "cell_type": "code",
   "execution_count": null,
   "outputs": [],
   "source": [
    "# Inizialize the quantum walker that will move on the graph\n",
    "walker = QWalker(graph.adjacency, noise_param=0.1, sink_node=graph.sinkNode)\n",
    "\n",
    "# The initial state is obtained by just placing all the population on the starting node\n",
    "dim = graph.total_nodes + 1\n",
    "initial_quantum_state = ket2dm(basis(dim, graph.startNode))"
   ],
   "metadata": {
    "collapsed": false,
    "pycharm": {
     "name": "#%%\n"
    }
   }
  },
  {
   "cell_type": "code",
   "execution_count": null,
   "outputs": [],
   "source": [
    "# Run the walker for 1000 steps and save the final state to resume it later\n",
    "opts = Options(store_states=False, store_final_state=True)\n",
    "result = walker.run_walker(initial_quantum_state, time_samples=1000, opts=opts)\n",
    "new_state = result.final_state"
   ],
   "metadata": {
    "collapsed": false,
    "pycharm": {
     "name": "#%%\n"
    }
   }
  },
  {
   "cell_type": "code",
   "execution_count": null,
   "outputs": [],
   "source": [
    "# We plot the population overlayed on the maze to visualize how the walker is moving along the graph\n",
    "img, ax = graph.plot_maze(show=False)\n",
    "\n",
    "diagQS = new_state.diag()\n",
    "diagQS = diagQS/np.max(diagQS)\n",
    "cmap = plt.cm.get_cmap('coolwarm')\n",
    "norm = plt.Normalize(0, 1)\n",
    "for n in range(diagQS.size - 1):  # -1  because the last one is the sink\n",
    "    x, y = graph.node2xy(n)\n",
    "    img[y, x, :] = cmap(norm(diagQS[n]))\n",
    "\n",
    "for link in range(1, graph.total_links + 1):\n",
    "    x, y = graph.link2xy(link)\n",
    "    if graph.get_link(link) > 0:\n",
    "        if 1 <= link <= graph.vertical_links and not np.array_equal(img[y + 1, x, :], [1, 1, 1, 1]) \\\n",
    "                and not np.array_equal(img[y - 1, x, :], [1, 1, 1, 1]):\n",
    "            img[y, x, :] = (img[y + 1, x, :] + img[y - 1, x, :]) / 2\n",
    "        elif graph.vertical_links < link <= graph.total_links and not np.array_equal(img[y, x + 1, :], [1, 1, 1, 1]) \\\n",
    "                and not np.array_equal(img[y, x - 1, :], [1, 1, 1, 1]):\n",
    "            img[y, x, :] = (img[y, x + 1, :] + img[y, x - 1, :]) / 2\n",
    "\n",
    "x, y = graph.node2xy(graph.startNode)\n",
    "img[y, x, :3] = 0, 0, 1\n",
    "\n",
    "x, y = graph.node2xy(graph.sinkNode)\n",
    "img[y, x, :3] = 1, 0, 0\n",
    "\n",
    "ax = plt.imshow(img, origin='lower')\n",
    "plt.show()"
   ],
   "metadata": {
    "collapsed": false,
    "pycharm": {
     "name": "#%%\n"
    }
   }
  },
  {
   "cell_type": "code",
   "execution_count": null,
   "outputs": [],
   "source": [
    "# We resume the walker from the previous state and at the end we compute the amount of population exited from the maze.\n",
    "\n",
    "result = walker.run_walker(new_state, time_samples=5000, opts=opts)\n",
    "print('Fraction of population exited from the maze: ', np.real(result.final_state.full()[dim-1, dim-1]))"
   ],
   "metadata": {
    "collapsed": false,
    "pycharm": {
     "name": "#%%\n"
    }
   }
  }
 ],
 "metadata": {
  "kernelspec": {
   "display_name": "Python 3",
   "language": "python",
   "name": "python3"
  },
  "language_info": {
   "codemirror_mode": {
    "name": "ipython",
    "version": 2
   },
   "file_extension": ".py",
   "mimetype": "text/x-python",
   "name": "python",
   "nbconvert_exporter": "python",
   "pygments_lexer": "ipython2",
   "version": "2.7.6"
  }
 },
 "nbformat": 4,
 "nbformat_minor": 0
}