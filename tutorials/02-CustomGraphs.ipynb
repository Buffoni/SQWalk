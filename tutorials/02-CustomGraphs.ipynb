{
  "nbformat": 4,
  "nbformat_minor": 0,
  "metadata": {
    "kernelspec": {
      "display_name": "Python 3",
      "language": "python",
      "name": "python3"
    },
    "language_info": {
      "codemirror_mode": {
        "name": "ipython",
        "version": 2
      },
      "file_extension": ".py",
      "mimetype": "text/x-python",
      "name": "python",
      "nbconvert_exporter": "python",
      "pygments_lexer": "ipython2",
      "version": "2.7.6"
    },
    "colab": {
      "name": "Example.ipynb",
      "provenance": []
    }
  },
  "cells": [
    {
      "cell_type": "code",
      "metadata": {
        "collapsed": true,
        "id": "4eOaErundVJ4"
      },
      "source": [
        "from qutip import ket2dm, basis, Options\n",
        "import numpy as np\n",
        "from maze import Maze\n",
        "from sqwalk import QWalker\n",
        "import matplotlib.pyplot as plt"
      ],
      "execution_count": 18,
      "outputs": []
    },
    {
      "cell_type": "code",
      "metadata": {
        "pycharm": {
          "name": "#%%\n"
        },
        "colab": {
          "base_uri": "https://localhost:8080/",
          "height": 252
        },
        "id": "9vVYD_IqdVJ4",
        "outputId": "a0e84033-16ff-4039-a20c-5beb2756f765"
      },
      "source": [
        "# Initialize the graph, in this case a perfect square maze having the side dimension equal to \"size\".\n",
        "# The entrance is in the lower left corner and the exit in the upper right corner.\n",
        "size = 10\n",
        "graph = Maze(maze_size=(size, size), startNode=0, sinkNode=size*size-1)\n",
        "\n",
        "# Let's plot it for visual reference\n",
        "_ = graph.plot_maze()"
      ],
      "execution_count": 19,
      "outputs": [
        {
          "output_type": "display_data",
          "data": {
            "image/png": "[encoded data removed]",
            "text/plain": [
              "<Figure size 432x288 with 1 Axes>"
            ]
          },
          "metadata": {
            "tags": []
          }
        }
      ]
    },
    {
      "cell_type": "code",
      "metadata": {
        "pycharm": {
          "name": "#%%\n"
        },
        "colab": {
          "base_uri": "https://localhost:8080/",
          "height": 54
        },
        "id": "qIidbUetdVJ5",
        "outputId": "a1bad619-dad7-4dc3-bde5-1e7267476c43"
      },
      "source": [
        "# Inizialize the quantum walker that will move on the graph\n",
        "walker = QWalker(graph.adjacency, noise_param=0.1, sink_node=graph.sinkNode)\n",
        "\n",
        "# The initial state is obtained by just placing all the population on the starting node\n",
        "dim = graph.total_nodes + 1\n",
        "initial_quantum_state = ket2dm(basis(dim, graph.startNode))\n",
        "initial_quantum_state"
      ],
      "execution_count": 20,
      "outputs": [
        {
          "output_type": "execute_result",
          "data": {
            "text/latex": "Quantum object: dims = [[101], [101]], shape = (101, 101), type = oper, isherm = True\\begin{equation*}\\left(\\begin{array}{*{11}c}1.0 & 0.0 & 0.0 & 0.0 & 0.0 & \\cdots & 0.0 & 0.0 & 0.0 & 0.0 & 0.0\\\\0.0 & 0.0 & 0.0 & 0.0 & 0.0 & \\cdots & 0.0 & 0.0 & 0.0 & 0.0 & 0.0\\\\0.0 & 0.0 & 0.0 & 0.0 & 0.0 & \\cdots & 0.0 & 0.0 & 0.0 & 0.0 & 0.0\\\\0.0 & 0.0 & 0.0 & 0.0 & 0.0 & \\cdots & 0.0 & 0.0 & 0.0 & 0.0 & 0.0\\\\0.0 & 0.0 & 0.0 & 0.0 & 0.0 & \\cdots & 0.0 & 0.0 & 0.0 & 0.0 & 0.0\\\\\\vdots & \\vdots & \\vdots & \\vdots & \\vdots & \\ddots & \\vdots & \\vdots & \\vdots & \\vdots & \\vdots\\\\0.0 & 0.0 & 0.0 & 0.0 & 0.0 & \\cdots & 0.0 & 0.0 & 0.0 & 0.0 & 0.0\\\\0.0 & 0.0 & 0.0 & 0.0 & 0.0 & \\cdots & 0.0 & 0.0 & 0.0 & 0.0 & 0.0\\\\0.0 & 0.0 & 0.0 & 0.0 & 0.0 & \\cdots & 0.0 & 0.0 & 0.0 & 0.0 & 0.0\\\\0.0 & 0.0 & 0.0 & 0.0 & 0.0 & \\cdots & 0.0 & 0.0 & 0.0 & 0.0 & 0.0\\\\0.0 & 0.0 & 0.0 & 0.0 & 0.0 & \\cdots & 0.0 & 0.0 & 0.0 & 0.0 & 0.0\\\\\\end{array}\\right)\\end{equation*}",
            "text/plain": [
              "Quantum object: dims = [[101], [101]], shape = (101, 101), type = oper, isherm = True\n",
              "Qobj data =\n",
              "[[1. 0. 0. ... 0. 0. 0.]\n",
              " [0. 0. 0. ... 0. 0. 0.]\n",
              " [0. 0. 0. ... 0. 0. 0.]\n",
              " ...\n",
              " [0. 0. 0. ... 0. 0. 0.]\n",
              " [0. 0. 0. ... 0. 0. 0.]\n",
              " [0. 0. 0. ... 0. 0. 0.]]"
            ]
          },
          "metadata": {
            "tags": []
          },
          "execution_count": 20
        }
      ]
    },
    {
      "cell_type": "code",
      "metadata": {
        "pycharm": {
          "name": "#%%\n"
        },
        "colab": {
          "base_uri": "https://localhost:8080/"
        },
        "id": "eFpQc-9NdVJ5",
        "outputId": "4e727eeb-3f02-42c4-b536-8a0ca3fc7d6b"
      },
      "source": [
        "# Run the walker for 1000 steps and save the final state to resume it later\n",
        "opts = Options(store_states=False, store_final_state=True)\n",
        "result = walker.run_walker(initial_quantum_state, time_samples=1000, opts=opts)\n",
        "new_state = result.final_state\n",
        "print('Executed 1000 steps of SQW.')"
      ],
      "execution_count": 21,
      "outputs": [
        {
          "output_type": "stream",
          "text": [
            "Executed 1000 steps of SQW.\n"
          ],
          "name": "stdout"
        }
      ]
    },
    {
      "cell_type": "code",
      "metadata": {
        "pycharm": {
          "name": "#%%\n"
        },
        "colab": {
          "base_uri": "https://localhost:8080/",
          "height": 248
        },
        "id": "GF22w9RzdVJ5",
        "outputId": "60d28615-ca8c-462b-d311-10f9ac8b7a04"
      },
      "source": [
        "# We plot the population overlayed on the maze to visualize how the walker is moving along the graph\n",
        "img, ax = graph.plot_maze(show=False)\n",
        "plt.axis('off')\n",
        "\n",
        "diagQS = new_state.diag()\n",
        "diagQS = diagQS/np.max(diagQS)\n",
        "cmap = plt.cm.get_cmap('coolwarm')\n",
        "norm = plt.Normalize(0, 1)\n",
        "for n in range(diagQS.size - 1):  # -1  because the last one is the sink\n",
        "    x, y = graph.node2xy(n)\n",
        "    img[y, x, :] = cmap(norm(diagQS[n]))\n",
        "\n",
        "for link in range(1, graph.total_links + 1):\n",
        "    x, y = graph.link2xy(link)\n",
        "    if graph.get_link(link) > 0:\n",
        "        if 1 <= link <= graph.vertical_links and not np.array_equal(img[y + 1, x, :], [1, 1, 1, 1]) \\\n",
        "                and not np.array_equal(img[y - 1, x, :], [1, 1, 1, 1]):\n",
        "            img[y, x, :] = (img[y + 1, x, :] + img[y - 1, x, :]) / 2\n",
        "        elif graph.vertical_links < link <= graph.total_links and not np.array_equal(img[y, x + 1, :], [1, 1, 1, 1]) \\\n",
        "                and not np.array_equal(img[y, x - 1, :], [1, 1, 1, 1]):\n",
        "            img[y, x, :] = (img[y, x + 1, :] + img[y, x - 1, :]) / 2\n",
        "\n",
        "x, y = graph.node2xy(graph.startNode)\n",
        "img[y, x, :3] = 0, 0, 1\n",
        "\n",
        "x, y = graph.node2xy(graph.sinkNode)\n",
        "img[y, x, :3] = 1, 0, 0\n",
        "\n",
        "ax = plt.imshow(img, origin='lower')\n",
        "plt.show()"
      ],
      "execution_count": 22,
      "outputs": [
        {
          "output_type": "display_data",
          "data": {
            "image/png": "[encoded data removed]",
            "text/plain": [
              "<Figure size 432x288 with 1 Axes>"
            ]
          },
          "metadata": {
            "tags": [],
            "needs_background": "light"
          }
        }
      ]
    },
    {
      "cell_type": "code",
      "metadata": {
        "pycharm": {
          "name": "#%%\n"
        },
        "colab": {
          "base_uri": "https://localhost:8080/"
        },
        "id": "DdiCRRx3dVJ5",
        "outputId": "a99e7e01-0ce4-48c7-e95e-ce3eb27c8194"
      },
      "source": [
        "# We resume the walker from the previous state and at the end we compute the amount of population exited from the maze.\n",
        "\n",
        "result = walker.run_walker(new_state, time_samples=5000, opts=opts)\n",
        "print('Fraction of population exited from the maze: ', np.real(result.final_state.full()[dim-1, dim-1]))"
      ],
      "execution_count": 23,
      "outputs": [
        {
          "output_type": "stream",
          "text": [
            "Fraction of population exited from the maze:  0.025852269805260987\n"
          ],
          "name": "stdout"
        }
      ]
    },
    {
      "cell_type": "code",
      "metadata": {
        "id": "9jODXLBVe409"
      },
      "source": [
        ""
      ],
      "execution_count": null,
      "outputs": []
    }
  ]
}