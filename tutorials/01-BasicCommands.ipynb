{
 "cells": [
  {
   "cell_type": "markdown",
   "source": [
    "# Basic SQWalk commands\n",
    "\n",
    "In this notebook we will introduce the `SQWalker` class and review its most important features.\n",
    "\n",
    "After you successfully installed the `sqwalk` package following the [instructions](https://github.com/Buffoni/SQWalk), you are ready to start simulating quantum walkers by importing the `SQWalker` class as follows:"
   ],
   "metadata": {
    "collapsed": false
   }
  },
  {
   "cell_type": "code",
   "execution_count": null,
   "outputs": [],
   "source": [
    "from sqwalk import SQWalker"
   ],
   "metadata": {
    "collapsed": false,
    "pycharm": {
     "name": "#%%\n"
    }
   }
  },
  {
   "cell_type": "markdown",
   "source": [
    "Then we import some other libraries that will come handy in the rest of the notebook. As `sqwalk` is based on `QuTiP`, we will make use of some of its functions. In this notebook, we will additionally use `networkx` as a reference package to deal with graphs."
   ],
   "metadata": {
    "collapsed": false
   }
  },
  {
   "cell_type": "code",
   "execution_count": null,
   "outputs": [],
   "source": [
    "from qutip import ket2dm, basis, Options, Qobj\n",
    "import matplotlib.pyplot as plt\n",
    "import networkx as nx\n",
    "import numpy as np"
   ],
   "metadata": {
    "collapsed": false,
    "pycharm": {
     "name": "#%%\n"
    }
   }
  },
  {
   "cell_type": "markdown",
   "source": [
    "### Create the graph\n",
    "\n",
    "First we are going to create the graph on which our walker will move. We will start by defining a simple line graph (called `path_graph` in `networkx`) with $50$ nodes, we will then plot the graph as well as its adjacency matrix."
   ],
   "metadata": {
    "collapsed": false
   }
  },
  {
   "cell_type": "code",
   "execution_count": null,
   "outputs": [],
   "source": [
    "#Number of nodes in the line\n",
    "N = 50\n",
    "#Build the graph using networkx (or the module of your choice)\n",
    "graph = nx.path_graph(N)\n",
    "nx.draw_circular(graph)\n",
    "plt.show()"
   ],
   "metadata": {
    "collapsed": false,
    "pycharm": {
     "name": "#%%\n"
    }
   }
  },
  {
   "cell_type": "code",
   "execution_count": null,
   "outputs": [],
   "source": [
    "# Plot the adjacency matrix\n",
    "adj = nx.adj_matrix(graph).todense()\n",
    "plt.imshow(adj)\n",
    "plt.show()"
   ],
   "metadata": {
    "collapsed": false,
    "pycharm": {
     "name": "#%%\n"
    }
   }
  },
  {
   "cell_type": "markdown",
   "source": [
    "### Initialize and run the walker\n",
    "\n",
    "\n",
    "We have thus associated th graph topology to the adjancency matrix of the graph $A$, whose elements $A_{ij}$ are $1$ is there is a link between the node $i$ and $j$, and $0$ otherwise.\n",
    "The walker object will then evolve according to the following master equation:\n",
    "\n",
    "> $ \\frac{d \\rho}{d t} = (1-p)\\ \\mathcal{L}_{QW} (\\rho) + p\\  \\mathcal{L}_{CRW} (\\rho) + \\mathcal{L}_{sink} (\\rho)$\n",
    "\n",
    "where $\\mathcal{L}_{QW} (\\rho) = - i[A,\\rho]$ describes the coherent hoping mechanisms, $\\mathcal{L}_{CRW} (\\rho) = \\sum_{i,j} L_{ij} \\rho L_{ij}^{\\dagger} - \\frac{1}{2} \\{L_{ij}^\\dagger L_{ij}, \\rho\\}$ with $L_{ij} = (A_{ij}/d_j)|i><j|$ describes the incoherent hopping ones, while $\\mathcal{L}_{sink} (\\rho) =  2|n+1><n|\\rho |n>< n+1| - \\{|n>< n|, \\rho\\} $ is associated to the irreversible transfer from the graph  (via the node $n$) to the exit (i.e., a sink in the node $n+1$). Besides, $ d_j$ is the number of links attached to the node $j$, while $|i >$ is the element of the basis vectors (in the Hilbert space) corresponding to the node $i$.\n",
    "The parameter $p$ describes how much incoherent the walker evolution is. In particular, when $p=1$ one recovers the model of a classical random walk, when $p=0$ one faces with a quantum walk, while when $0<p<1$ the walker hops via both incoherent and coherent mechanisms (stochastic quantum walker).\n",
    "\n",
    "\n",
    "As of now we will leave the sink_node parameter to its default value (None) and we will come back at it later in the notebook."
   ],
   "metadata": {
    "collapsed": false
   }
  },
  {
   "cell_type": "code",
   "execution_count": null,
   "outputs": [],
   "source": [
    "# Inizialize the quantum walker that will move on the graph\n",
    "walker = SQWalker(np.array(adj), noise_param=0.0, sink_node=None)"
   ],
   "metadata": {
    "collapsed": false,
    "pycharm": {
     "name": "#%%\n"
    }
   }
  },
  {
   "cell_type": "markdown",
   "source": [
    "Now we can simply run the walker by specifying the initial node and the lenght of the evolution. We can time it to see how fast it executes the desired number of steps."
   ],
   "metadata": {
    "collapsed": false
   }
  },
  {
   "cell_type": "code",
   "execution_count": null,
   "outputs": [],
   "source": [
    "# Run the walker for 1000 steps starting from the middle node\n",
    "# time the run to check efficiency\n",
    "%%time\n",
    "time_samples = 1000\n",
    "initial_node = N // 2\n",
    "result = walker.run_walker(initial_node, time_samples)\n",
    "new_state = result.final_state\n",
    "print('Executed', time_samples ,'steps of SQW.')"
   ],
   "metadata": {
    "collapsed": false,
    "pycharm": {
     "name": "#%%\n"
    }
   }
  },
  {
   "cell_type": "markdown",
   "source": [
    "Note that instead of initializing the initial node of the walker using an integer, we can pass a generic density matrix as initial state of the walker by using qutip.\n"
   ],
   "metadata": {
    "collapsed": false
   }
  },
  {
   "cell_type": "code",
   "execution_count": null,
   "outputs": [],
   "source": [
    "%%time\n",
    "time_samples=1000\n",
    "initial_quantum_state = ket2dm(basis(N, N//2)) #density matrix equivalent of setting initial_node = N // 2\n",
    "result = walker.run_walker(initial_quantum_state, time_samples)\n",
    "new_state = result.final_state\n",
    "print('Executed', time_samples ,'steps of SQW.')"
   ],
   "metadata": {
    "collapsed": false,
    "pycharm": {
     "name": "#%%\n"
    }
   }
  },
  {
   "cell_type": "markdown",
   "source": [
    "We can now plot the population in each node by simply taking the diagonal of the final density matrix."
   ],
   "metadata": {
    "collapsed": false
   }
  },
  {
   "cell_type": "code",
   "execution_count": null,
   "outputs": [],
   "source": [
    "nodelist = [i for i in range(N)]\n",
    "plt.bar(nodelist, new_state.diag())\n",
    "plt.show()"
   ],
   "metadata": {
    "collapsed": false,
    "pycharm": {
     "name": "#%%\n"
    }
   }
  },
  {
   "cell_type": "markdown",
   "source": [
    "We can then quickly compare this result with an identical classical walker (i.e. setting `noise_param=1`).\n",
    "\n"
   ],
   "metadata": {
    "collapsed": false
   }
  },
  {
   "cell_type": "code",
   "execution_count": null,
   "outputs": [],
   "source": [
    "walker = SQWalker(np.array(adj), noise_param=1, sink_node=None)\n",
    "result = walker.run_walker(initial_node, time_samples)\n",
    "plt.bar(nodelist, result.final_state.diag())\n",
    "plt.show()"
   ],
   "metadata": {
    "collapsed": false,
    "pycharm": {
     "name": "#%%\n"
    }
   }
  },
  {
   "cell_type": "markdown",
   "source": [
    "### Noise and sinks\n",
    "\n",
    "In general one can pick any value of `noise_param` in the interval $[0,1]$ to get a stochastic quantum walker.\n",
    "\n",
    "In addition to that we can add a *sink*. But what is it?\n",
    "\n",
    "A sink is an additional node where the population of the walker is irreversibly stored, we can think of it as a \"trap\" for our walker or an \"exit\" from the graph. With `SQWalk` we can specify which node of the graph is connected to the sink via the parameter `sink_node` (multiple sink nodes will come in a following version) which takes as an input the index of the node irreversibly connected to the sink.\n",
    "Let's pick up again our stochastic quantum walker on a line and attach a sink to the $10th$ node."
   ],
   "metadata": {
    "collapsed": false
   }
  },
  {
   "cell_type": "code",
   "execution_count": null,
   "outputs": [],
   "source": [
    "# Inizialize the stochastic quantum walker with a sink connected to the 10th node\n",
    "walker = SQWalker(np.array(adj), noise_param=0.15, sink_node=10)\n",
    "\n",
    "opts = Options(store_states=True, store_final_state=True)\n",
    "result = walker.run_walker(N//2, time_samples=2000, opts=opts)\n",
    "new_state = result.final_state\n",
    "result.final_state.shape"
   ],
   "metadata": {
    "collapsed": false,
    "pycharm": {
     "name": "#%%\n"
    }
   }
  },
  {
   "cell_type": "markdown",
   "source": [
    "We see that now the dimension of the final density matrix is $(51,51)$ instead of $(50,50)$, that is because the sink has been attached to the system. Indeed we can visualize the behavior of the sink by plotting the population on the nodes and see that after some time most of the population is irreversibly in the sink (the last bar)."
   ],
   "metadata": {
    "collapsed": false
   }
  },
  {
   "cell_type": "code",
   "execution_count": null,
   "outputs": [],
   "source": [
    "nodelist = [i for i in range(N+1)]\n",
    "plt.bar(nodelist, new_state.diag())\n",
    "plt.show()"
   ],
   "metadata": {
    "collapsed": false,
    "pycharm": {
     "name": "#%%\n"
    }
   }
  },
  {
   "cell_type": "markdown",
   "source": [
    "Since the `run_walker` function is based on the `mesolve` solver of QuTip, one can pass some `Options` to the function in the same way in which are passed to `mesolve`.\n",
    "\n",
    "As you can see above, we asked to store all the indermediate states *and* the final state, in this way we can explore the dynamics of the walker at previous timesteps. Or even use the whole data to create beautiful animations and overlays to the graph."
   ],
   "metadata": {
    "collapsed": false
   }
  },
  {
   "cell_type": "code",
   "execution_count": null,
   "outputs": [],
   "source": [
    "# show state at step 1000\n",
    "plt.bar(nodelist, result.states[1000].diag())\n",
    "plt.show()"
   ],
   "metadata": {
    "collapsed": false,
    "pycharm": {
     "name": "#%%\n"
    }
   }
  },
  {
   "cell_type": "markdown",
   "source": [
    "To summarize we have seen how to create a walker from a generic adjacency matrix and reviewed the principal functionalities of `sqwalk` such as the noise parameter, the sink node and the possibility of running time evolutions with different options and initial states.\n",
    "\n",
    "In the next notebook we will see how one can use an SQWalk object to simulate a walker on a custom and more complex topology class."
   ],
   "metadata": {
    "collapsed": false
   }
  }
 ],
 "metadata": {
  "kernelspec": {
   "display_name": "Python 3",
   "language": "python",
   "name": "python3"
  },
  "language_info": {
   "codemirror_mode": {
    "name": "ipython",
    "version": 2
   },
   "file_extension": ".py",
   "mimetype": "text/x-python",
   "name": "python",
   "nbconvert_exporter": "python",
   "pygments_lexer": "ipython2",
   "version": "2.7.6"
  }
 },
 "nbformat": 4,
 "nbformat_minor": 0
}